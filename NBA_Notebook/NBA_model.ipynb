{
 "cells": [
  {
   "cell_type": "code",
   "execution_count": 1,
   "id": "53d55143",
   "metadata": {},
   "outputs": [],
   "source": [
    "import pandas as pd\n",
    "import numpy as np\n",
    "import time\n",
    "from sklearn.model_selection import train_test_split\n",
    "from nba_api.stats.endpoints import boxscoreadvancedv2\n",
    "from nba_api.stats.endpoints import boxscoresummaryv2\n",
    "from nba_api.stats.endpoints import leaguegamefinder\n",
    "from nba_api.stats.endpoints import boxscoremiscv2\n",
    "from nba_api.stats.endpoints import boxscorefourfactorsv2\n",
    "from nba_api.stats.endpoints import boxscoretraditionalv2\n",
    "from nba_api.stats.endpoints import boxscoreusagev2\n",
    "import matplotlib.pyplot as plt\n",
    "from keras import backend as K\n",
    "from sklearn import preprocessing\n",
    "import tensorflow as tf\n",
    "from sklearn.linear_model import LinearRegression\n",
    "from sklearn.ensemble import BaggingRegressor,BaggingClassifier, RandomForestRegressor,RandomForestClassifier\n",
    "from sklearn.metrics import mean_squared_error,r2_score,roc_curve,auc\n",
    "from sklearn.preprocessing import MinMaxScaler"
   ]
  },
  {
   "cell_type": "code",
   "execution_count": null,
   "id": "6a55ab99",
   "metadata": {},
   "outputs": [],
   "source": [
    "reg15 = pd.read_csv('../../reg15.csv')\n",
    "misc15 = pd.read_csv('../../misc15.csv')\n",
    "adv15 = pd.read_csv('../../adv15.csv')\n",
    "four15 = pd.read_csv('../../four15.csv')\n",
    "reg16 = pd.read_csv('../../reg16.csv')\n",
    "misc16 = pd.read_csv('../../misc16.csv')\n",
    "adv16 = pd.read_csv('../../adv16.csv')\n",
    "four16 = pd.read_csv('../../four16.csv')\n",
    "reg17 = pd.read_csv('../../regular_1718.csv')\n",
    "misc17 = pd.read_csv('../../misc17.csv')\n",
    "adv17 = pd.read_csv('../../advanced17.csv')\n",
    "four17 = pd.read_csv('../../four17.csv')\n",
    "reg18 = pd.read_csv('../../reg18.csv')\n",
    "misc18 = pd.read_csv('../../misc18.csv')\n",
    "adv18 = pd.read_csv('../../advanced18.csv')\n",
    "four18 = pd.read_csv('../../four18.csv')\n",
    "reg19 = pd.read_csv('../../reg19.csv')\n",
    "misc19 = pd.read_csv('../../misc19.csv')\n",
    "adv19 = pd.read_csv('../../adv19.csv')\n",
    "four19 = pd.read_csv('../../four19.csv')\n",
    "\n",
    "team_ids = reg16.TEAM_ID.value_counts().index\n",
    "\n",
    "total15 = get_features(reg15,misc15,adv15,four15)\n",
    "total16 = get_features(reg16,misc16,adv16,four16)\n",
    "total17 = get_features(reg17,misc17,adv17,four17)\n",
    "total18 = get_features(reg18,misc18,adv18,four18)\n",
    "total19 = get_features(reg19,misc19,adv19,four19)\n",
    "\n",
    "features = [total16,total17,total18]\n",
    "test_features = [total15]\n",
    "\n",
    "vegas15 = pd.read_csv('archive/2015-16/vegas.txt',sep = ',')\n",
    "vegas16 = pd.read_csv('archive/2016-17/vegas.txt',sep = ',')\n",
    "vegas17 = pd.read_csv('archive/2017-18/vegas.txt',sep = ',')\n",
    "vegas18 = pd.read_csv('archive/2018-19/vegas.txt',sep = ',')\n",
    "\n",
    "targets = [vegas16,vegas17,vegas18]\n",
    "test_targ = [vegas15]\n",
    "\n",
    "sixteen_eighteen = get_targets_ML(features,targets)\n",
    "test = get_targets_ML(test_features,test_targ)\n",
    "\n",
    "X_train = sixteen_eighteen[0].iloc[0:4500,:]\n",
    "X_test = sixteen_eighteen[0].iloc[4500:,:]\n",
    "\n",
    "sixteen_eighteen[1]['prob_a'] = 1/(sixteen_eighteen[1]['odds_a'])\n",
    "y = sixteen_eighteen[1][['prob_a','a_win']]\n",
    "y_train = y.iloc[0:4500,:]\n",
    "y_test = y.iloc[4500:,:]\n",
    "\n",
    "nba_teams = ['Cleveland Cavaliers','Boston Celtics','Golden State Warriors','Houston Rockets','Utah Jazz'\n",
    "             ,'Philadelphia 76ers','Toronto Raptors','New Orleans Pelicans','Washington Wizards','Miami Heat'\n",
    "            ,'Milwaukee Bucks','Indiana Pacers','Oklahoma City Thunder','San Antonio Spurs','Portland Trail Blazers',\n",
    "             'Minnesota Timberwolves','Chicago Bulls','Dallas Mavericks','Sacramento Kings','Los Angeles Lakers'\n",
    "            ,'Orlando Magic','Denver Nuggets','LA Clippers','New York Knicks','Memphis Grizzlies','Detroit Pistons'\n",
    "            ,'Charlotte Hornets','Atlanta Hawks','Phoenix Suns','Brooklyn Nets']\n",
    "\n"
   ]
  },
  {
   "cell_type": "code",
   "execution_count": null,
   "id": "6168f6aa",
   "metadata": {},
   "outputs": [],
   "source": []
  },
  {
   "cell_type": "code",
   "execution_count": null,
   "id": "1287f2d8",
   "metadata": {},
   "outputs": [],
   "source": []
  },
  {
   "cell_type": "code",
   "execution_count": 2,
   "id": "c39d63ae",
   "metadata": {},
   "outputs": [],
   "source": [
    "def combine_team_games(df, keep_method='home'):\n",
    "    '''Combine a TEAM_ID-GAME_ID unique table into rows by game. Slow.\n",
    "\n",
    "        Parameters\n",
    "        ----------\n",
    "        df : Input DataFrame.\n",
    "        keep_method : {'home', 'away', 'winner', 'loser', ``None``}, default 'home'\n",
    "            - 'home' : Keep rows where TEAM_A is the home team.\n",
    "            - 'away' : Keep rows where TEAM_A is the away team.\n",
    "            - 'winner' : Keep rows where TEAM_A is the losing team.\n",
    "            - 'loser' : Keep rows where TEAM_A is the winning team.\n",
    "            - ``None`` : Keep all rows. Will result in an output DataFrame the same\n",
    "                length as the input DataFrame.\n",
    "                \n",
    "        Returns\n",
    "        -------\n",
    "        result : DataFrame\n",
    "    '''\n",
    "    # Join every row to all others with the same game ID.\n",
    "    joined = pd.merge(df, df, suffixes=['_A', '_B'],\n",
    "                      on=['GAME_ID'])\n",
    "    # Filter out any row that is joined to itself.\n",
    "    \n",
    "    for columnName in joined:\n",
    "        if(columnName == 'TEAM_ID_A_x'):\n",
    "            joined = joined.rename(columns = {'TEAM_ID_A_x':'TEAM_ID_A'})\n",
    "        \n",
    "    for columnName in joined:\n",
    "        if(columnName == 'TEAM_ID_B_x'):\n",
    "            joined = joined.rename(columns = {'TEAM_ID_B_x':'TEAM_ID_B'})  \n",
    "        \n",
    "    result = joined[joined.TEAM_ID_A != joined.TEAM_ID_B]\n",
    "    # Take action based on the keep_method flag.\n",
    "    if keep_method is None:\n",
    "        # Return all the rows.\n",
    "        pass\n",
    "    elif keep_method.lower() == 'home':\n",
    "        # Keep rows where TEAM_A is the home team.\n",
    "        result = result[result.MATCHUP_A.str.contains(' vs. ')]\n",
    "    elif keep_method.lower() == 'away':\n",
    "        # Keep rows where TEAM_A is the away team.\n",
    "        result = result[result.MATCHUP_A.str.contains(' @ ')]\n",
    "    elif keep_method.lower() == 'winner':\n",
    "        result = result[result.WL_A == 'W']\n",
    "    elif keep_method.lower() == 'loser':\n",
    "        result = result[result.WL_A == 'L']\n",
    "    else:\n",
    "        raise ValueError(f'Invalid keep_method: {keep_method}')\n",
    "    return result"
   ]
  },
  {
   "cell_type": "code",
   "execution_count": null,
   "id": "16d10106",
   "metadata": {},
   "outputs": [],
   "source": []
  },
  {
   "cell_type": "code",
   "execution_count": 3,
   "id": "f6f64a9b",
   "metadata": {},
   "outputs": [],
   "source": [
    "def combine_vegas_games(df):\n",
    "    '''Combine a TEAM_ID-GAME_ID unique table into rows by game. Slow.\n",
    "\n",
    "        Parameters\n",
    "        ----------\n",
    "        df : Input DataFrame.\n",
    "        keep_method : {'home', 'away', 'winner', 'loser', ``None``}, default 'home'\n",
    "            - 'home' : Keep rows where TEAM_A is the home team.\n",
    "            - 'away' : Keep rows where TEAM_A is the away team.\n",
    "            - 'winner' : Keep rows where TEAM_A is the losing team.\n",
    "            - 'loser' : Keep rows where TEAM_A is the winning team.\n",
    "            - ``None`` : Keep all rows. Will result in an output DataFrame the same\n",
    "                length as the input DataFrame.\n",
    "                \n",
    "        Returns\n",
    "        -------\n",
    "        result : DataFrame\n",
    "    '''\n",
    "    # Join every row to all others with the same game ID.\n",
    "    joined = pd.merge(df, df, suffixes=['_A', '_B'],\n",
    "                      on=['GameId'])\n",
    "    # Filter out any row that is joined to itself.\n",
    "    \n",
    "    result = joined[joined.TeamId_A != joined.TeamId_B]\n",
    "    # Take action based on the keep_method flag.\n",
    "    return result"
   ]
  },
  {
   "cell_type": "code",
   "execution_count": null,
   "id": "a113ae80",
   "metadata": {},
   "outputs": [],
   "source": []
  },
  {
   "cell_type": "code",
   "execution_count": 4,
   "id": "6182331e",
   "metadata": {},
   "outputs": [],
   "source": []
  },
  {
   "cell_type": "code",
   "execution_count": 5,
   "id": "e7c9af7b",
   "metadata": {},
   "outputs": [],
   "source": [
    "def remove_unnamed(frame):\n",
    "    for columnName in frame:\n",
    "        if(columnName[0:7] == 'Unnamed'):\n",
    "            frame = frame.drop(columns = [columnName])\n",
    "    return frame"
   ]
  },
  {
   "cell_type": "code",
   "execution_count": 6,
   "id": "bbd5f14b",
   "metadata": {},
   "outputs": [],
   "source": [
    "def pull_reg_season(start_year, start_date, end_date):\n",
    "    reg = pd.DataFrame()\n",
    "    for i in team_ids:\n",
    "        games_base = leaguegamefinder.LeagueGameFinder(team_id_nullable = i)\n",
    "        games_xxxx = games_base.get_data_frames()[0]\n",
    "        games_xxxx = games_xxxx[games_xxxx.TEAM_NAME.isin(nba_teams)]\n",
    "        regular_xxxx = games_xxxx[(games_xxxx.GAME_DATE > start_date) & (games_xxxx.GAME_DATE < end_date)]\n",
    "        reg = reg.append(regular_xxxx)\n",
    "        time.sleep(30)\n",
    "    reg = reg.sort_values('GAME_ID')\n",
    "    return reg"
   ]
  },
  {
   "cell_type": "code",
   "execution_count": null,
   "id": "d4ddd7b8",
   "metadata": {},
   "outputs": [],
   "source": []
  },
  {
   "cell_type": "code",
   "execution_count": 34,
   "id": "b08387c9",
   "metadata": {},
   "outputs": [],
   "source": [
    "def pull_stats(api, index, ids):\n",
    "    box = pd.DataFrame()\n",
    "    subset1 = ids[0:308]\n",
    "    subset2 = ids[308:616]\n",
    "    subset3 = ids[616:924]\n",
    "    subset4 = ids[924:1231]\n",
    "    subset_list = [subset1, subset2, subset3, subset4]\n",
    "    for i in subset_list:\n",
    "        for j in i:\n",
    "            print(j)\n",
    "            row = api(game_id = j)\n",
    "            row = row.get_data_frames()[index]\n",
    "            row['GAME_ID'] = j\n",
    "            row = combine_team_games(row, keep_method = None)\n",
    "            box = box.append(row)\n",
    "        time.sleep(60)\n",
    "    return box\n",
    "        \n",
    "\n",
    "            \n",
    "                \n",
    "            \n",
    "    "
   ]
  },
  {
   "cell_type": "code",
   "execution_count": 35,
   "id": "54183c7e",
   "metadata": {},
   "outputs": [],
   "source": [
    "def pull_stats_slow(api, index, ids):\n",
    "    box = pd.DataFrame()\n",
    "    subset1 = ids[0:77]\n",
    "    subset2 = ids[77:154]\n",
    "    subset3 = ids[154:231]\n",
    "    subset4 = ids[231:308]\n",
    "    subset5 = ids[308:385]\n",
    "    subset6 = ids[385:462]\n",
    "    subset7 = ids[462:539]\n",
    "    subset8 = ids[539:616]\n",
    "    subset9 = ids[616:693]\n",
    "    subset10 = ids[693:770]\n",
    "    subset11 = ids[770:847]\n",
    "    subset12 = ids[847:924]\n",
    "    subset13= ids[924:1001]\n",
    "    subset14 = ids[1001:1078]\n",
    "    subset15 = ids[1078:1155]\n",
    "    subset16 = ids[1155:1231]\n",
    "    subset_list = [subset1, subset2, subset3, subset4,subset5, subset6, subset7, subset8,\n",
    "                  subset9, subset10, subset11, subset12,subset13, subset14, subset15, subset16]\n",
    "    counter = 0\n",
    "    for i in subset_list:\n",
    "        for j in i:\n",
    "            row = api(game_id = j)\n",
    "            row = row.get_data_frames()[index]\n",
    "            row['GAME_ID'] = j\n",
    "            row = combine_team_games(row, keep_method = None)\n",
    "            box = box.append(row)\n",
    "            print(counter)\n",
    "            counter = counter + 1\n",
    "            time.sleep(1)\n",
    "        time.sleep(150)\n",
    "    return box"
   ]
  },
  {
   "cell_type": "code",
   "execution_count": 36,
   "id": "74a119ae",
   "metadata": {},
   "outputs": [],
   "source": [
    "def pull_stats_super_slow(api, index, reg_season):\n",
    "    box = pd.DataFrame()\n",
    "    reg_season = reg_season.drop_duplicates(subset = ['GAME_ID'])\n",
    "    ids = reg_season['GAME_ID']\n",
    "    subset1 = ids[0:308]\n",
    "    subset2 = ids[308:616]\n",
    "    subset3 = ids[616:924]\n",
    "    subset4 = ids[924:1231]\n",
    "    subset_list = [subset1, subset2, subset3, subset4]\n",
    "    for i in subset_list:\n",
    "        for j in i:\n",
    "            row = api(game_id = j)\n",
    "            row = row.get_data_frames()[index]\n",
    "            row['GAME_ID'] = j\n",
    "            row = combine_team_games(row, keep_method = None)\n",
    "            box = box.append(row)\n",
    "            time.sleep(10)\n",
    "    return box"
   ]
  },
  {
   "cell_type": "code",
   "execution_count": 37,
   "id": "3d6b09e1",
   "metadata": {},
   "outputs": [],
   "source": [
    "def reg_clean(reg):\n",
    "    if(('GAME_ID')[0] == '0'):\n",
    "        reg['GAME_ID'] = reg['GAME_ID'].str[2:].astype(int)\n",
    "    reg = reg.sort_values('GAME_ID')\n",
    "    reg = combine_team_games(reg,keep_method=None)\n",
    "    return reg\n",
    "    \n",
    "    "
   ]
  },
  {
   "cell_type": "code",
   "execution_count": 38,
   "id": "d0eab95c",
   "metadata": {},
   "outputs": [],
   "source": [
    "def home_win(WL_A):\n",
    "    if(WL_A == 'W'):\n",
    "        return([1,0,0])\n",
    "    else:\n",
    "        return([0,1,0])"
   ]
  },
  {
   "cell_type": "code",
   "execution_count": 39,
   "id": "4e9d177e",
   "metadata": {},
   "outputs": [],
   "source": [
    "def adv_clean(advanced):\n",
    "    advanced = advanced.drop(columns = ['TEAM_ID_B','TEAM_ABBREVIATION_A','TEAM_ABBREVIATION_B'\n",
    "                                   ,'TEAM_CITY_A','TEAM_CITY_B','TEAM_NAME_A','TEAM_NAME_B','MIN_A'])\n",
    "    advanced = advanced.sort_values('GAME_ID')\n",
    "    return advanced\n",
    "    \n"
   ]
  },
  {
   "cell_type": "code",
   "execution_count": 40,
   "id": "23bf1d61",
   "metadata": {},
   "outputs": [],
   "source": [
    "def traditional_clean(traditional):\n",
    "    bench = traditional.drop_duplicates(subset = ['GAME_ID','TEAM_NAME_A'], keep = 'last')\n",
    "    starters = traditional.drop_duplicates(subset = ['GAME_ID','TEAM_NAME_A'], keep = 'first')\n",
    "    bench = bench.drop(columns = ['TEAM_NAME_A', 'TEAM_ABBREVIATION_A',\n",
    "       'TEAM_CITY_A', 'STARTERS_BENCH_A', 'MIN_A','TEAM_ID_B', 'TEAM_NAME_B',\n",
    "       'TEAM_ABBREVIATION_B', 'TEAM_CITY_B', 'STARTERS_BENCH_B', 'MIN_B'])\n",
    "    starters = starters.drop(columns = ['TEAM_NAME_A', 'TEAM_ABBREVIATION_A',\n",
    "       'TEAM_CITY_A', 'STARTERS_BENCH_A', 'MIN_A','TEAM_ID_B', 'TEAM_NAME_B',\n",
    "       'TEAM_ABBREVIATION_B', 'TEAM_CITY_B', 'STARTERS_BENCH_B', 'MIN_B'])\n",
    "    for columnName in bench:\n",
    "        if((columnName == 'GAME_ID') | (columnName == 'TEAM_ID_A')):\n",
    "            continue\n",
    "        new_col_name = columnName + '_bench'\n",
    "        bench[new_col_name] = bench[columnName]\n",
    "        bench = bench.drop(columns = [columnName])\n",
    "    for columnName in starters:\n",
    "        if((columnName == 'GAME_ID') | (columnName == 'TEAM_ID_A')):\n",
    "            continue\n",
    "        new_col_name = columnName + '_starters'\n",
    "        starters[new_col_name] = starters[columnName]\n",
    "        starters = starters.drop(columns = [columnName])\n",
    "        \n",
    "    merged = pd.merge(starters,bench,left_on = 'GAME_ID',right_on = 'GAME_ID')\n",
    "    merged = merged.drop_duplicates(subset = ['GAME_ID','TEAM_ID_A_x'])\n",
    "    merged = merged.drop(columns = ['TEAM_ID_A_y'])\n",
    "    merged = merged.rename(columns={\"TEAM_ID_A_x\": \"TEAM_ID_A\"})\n",
    "    return(merged)\n",
    "    "
   ]
  },
  {
   "cell_type": "code",
   "execution_count": 41,
   "id": "20d0c78b",
   "metadata": {},
   "outputs": [],
   "source": [
    "def four_clean(four):\n",
    "    four = four.drop(columns = ['TEAM_NAME_A', 'TEAM_ABBREVIATION_A',\n",
    "       'TEAM_CITY_A', 'MIN_A','TEAM_ABBREVIATION_B',\n",
    "       'TEAM_CITY_B', 'MIN_B','OREB_PCT_A','TM_TOV_PCT_A','EFG_PCT_A'])\n",
    "    four = four.sort_values('GAME_ID')\n",
    "    return four"
   ]
  },
  {
   "cell_type": "code",
   "execution_count": 42,
   "id": "16b5d911",
   "metadata": {},
   "outputs": [],
   "source": [
    "def usage_clean(usage):\n",
    "    return usage\n",
    "    "
   ]
  },
  {
   "cell_type": "code",
   "execution_count": 43,
   "id": "7f7f0ad6",
   "metadata": {},
   "outputs": [],
   "source": [
    "def misc_clean(misc):\n",
    "    misc = misc.drop(columns = ['TEAM_NAME_A', 'TEAM_ABBREVIATION_A',\n",
    "       'TEAM_CITY_A', 'MIN_A'])\n",
    "    return misc"
   ]
  },
  {
   "cell_type": "code",
   "execution_count": 44,
   "id": "038ce44c",
   "metadata": {},
   "outputs": [],
   "source": [
    "def get_minutes(matchupmisc):\n",
    "    matchupmisc = matchupmisc.reset_index(drop=True)\n",
    "    matchupmisc = matchupmisc.sort_values('GAME_ID')\n",
    "    matchupmisc['minutes'] = (matchupmisc['MIN_A'].str[0:3].astype(int))/5\n",
    "    minutes =  matchupmisc['minutes']\n",
    "    return minutes\n",
    "    \n",
    "    "
   ]
  },
  {
   "cell_type": "code",
   "execution_count": 45,
   "id": "c25754ba",
   "metadata": {},
   "outputs": [],
   "source": [
    "def per_minute_stats(frame, minutes):\n",
    "    frame = frame.reset_index(drop = True)\n",
    "    features = frame.drop(columns = ['GAME_ID'])\n",
    "    game_id = frame['GAME_ID'].reset_index(drop = True)\n",
    "    team_id = frame['TEAM_ID_A'].reset_index(drop=True)\n",
    "    for columnName in features:\n",
    "        if(columnName[-1] == 'B'):\n",
    "            features = features.drop(columns = [columnName])\n",
    "    for columnName in features:\n",
    "        if(columnName[-1] == 'A'):\n",
    "            features = features.rename(columns={columnName: columnName[0:-2]})\n",
    "    features['minutes'] = minutes\n",
    "    cumulative = features.groupby('TEAM_ID').cumsum()\n",
    "    for columnName in cumulative:\n",
    "        if((columnName == 'minutes') | (columnName == 'TEAM_ID')):\n",
    "            continue\n",
    "        new_col_name = columnName + '_per_minute'\n",
    "        features[new_col_name] = ((cumulative[columnName] - features[columnName]) / (cumulative['minutes'] - features['minutes']))\n",
    "        features = features.drop(columns = [columnName])\n",
    "    features = features.reset_index(drop= True)\n",
    "    features= features.drop(columns = ['minutes'])\n",
    "    features['TEAM_ID'] = team_id\n",
    "    features['GAME_ID'] = game_id\n",
    "    return combine_team_games(features, keep_method = None)\n",
    "    \n",
    "        \n",
    "    "
   ]
  },
  {
   "cell_type": "code",
   "execution_count": 46,
   "id": "acbe64df",
   "metadata": {},
   "outputs": [],
   "source": [
    "def cum_stats(frame):\n",
    "    frame = frame.reset_index(drop = True)\n",
    "    features = frame.drop(columns = ['GAME_ID'])\n",
    "    game_id = frame['GAME_ID'].reset_index(drop = True)\n",
    "    team_id = frame['TEAM_ID_A'].reset_index(drop=True)\n",
    "    for columnName in features:\n",
    "        if(columnName[-1] == 'B'):\n",
    "            features = features.drop(columns = [columnName])\n",
    "    for columnName in features:\n",
    "        if(columnName[-1] == 'A'):\n",
    "            features = features.rename(columns={columnName: columnName[0:-2]})\n",
    "    features = features.reset_index(drop = True)\n",
    "    for columnName in features:\n",
    "        if(columnName == 'TEAM_ID'):\n",
    "            continue\n",
    "        new_col_name = columnName + '_median'\n",
    "        features[new_col_name] = features.groupby('TEAM_ID')[columnName].apply(lambda x: x.shift().expanding().median())\n",
    "        features = features.drop(columns = [columnName])\n",
    "    features = features.reset_index(drop= True)\n",
    "    features['TEAM_ID'] = team_id\n",
    "    features['GAME_ID'] = game_id\n",
    "    features = features.reset_index(drop = True)\n",
    "    return combine_team_games(features, keep_method = None)"
   ]
  },
  {
   "cell_type": "code",
   "execution_count": null,
   "id": "0ea7a944",
   "metadata": {},
   "outputs": [],
   "source": [
    " "
   ]
  },
  {
   "cell_type": "code",
   "execution_count": null,
   "id": "cd41dd05",
   "metadata": {},
   "outputs": [],
   "source": []
  },
  {
   "cell_type": "code",
   "execution_count": 47,
   "id": "7a4c98a8",
   "metadata": {},
   "outputs": [],
   "source": [
    "def reg_impute(reg_cleaned, minutes):\n",
    "    per_minute = reg_cleaned[['TEAM_ID_A', 'GAME_ID', 'PTS_A', 'FGM_A', 'FGA_A',\n",
    "                      'FG3M_A','FG3A_A','FTM_A', 'FTA_A','OREB_A', 'DREB_A',\n",
    "       'REB_A', 'AST_A', 'STL_A', 'BLK_A', 'TOV_A', 'PF_A', 'PLUS_MINUS_A']]\n",
    "    \n",
    "    cum = reg_cleaned[['TEAM_ID_A', 'GAME_ID','FG_PCT_A','FG3_PCT_A','FT_PCT_A']]\n",
    "    \n",
    "    per_minute = per_minute_stats(per_minute, minutes)\n",
    "    cum = cum_stats(cum)\n",
    "    merged = pd.merge(cum,per_minute,left_on = ['GAME_ID','TEAM_ID_A'],right_on=['GAME_ID','TEAM_ID_A'])\n",
    "    #merged = merged.drop_duplicates(subset = ['TEAM_ID_A_x','GAME_ID','TEAM_ID_B_x'])\n",
    "    merged = merged.rename(columns = {'TEAM_ID_A_x':'TEAM_ID'})\n",
    "    for columnName in merged:\n",
    "        if(columnName[-1] == 'B'):\n",
    "            merged = merged.drop(columns = [columnName])\n",
    "    for columnName in merged:\n",
    "        if(columnName[-1] == 'A'):\n",
    "            merged = merged.rename(columns={columnName: columnName[0:-2]})\n",
    "    merged = merged.drop(columns = ['TEAM_ID_B_x','TEAM_ID_B_y'])\n",
    "    merged = combine_team_games(merged,keep_method = None)\n",
    "    #return merged\n",
    "    #merged['GAME_ID'] = merged['GAME_ID'].str[2:].astype(int)\n",
    "    return merged\n"
   ]
  },
  {
   "cell_type": "code",
   "execution_count": 48,
   "id": "641d33ba",
   "metadata": {},
   "outputs": [],
   "source": [
    "def get_62(frame):\n",
    "    return frame.iloc[600:,:]"
   ]
  },
  {
   "cell_type": "code",
   "execution_count": 49,
   "id": "d7ce272c",
   "metadata": {},
   "outputs": [],
   "source": [
    "def four_impute(four_cleaned):\n",
    "    cum = cum_stats(four_cleaned)\n",
    "    #cum['GAME_ID'] = cum['GAME_ID'].str[2:].astype(int)\n",
    "    return cum"
   ]
  },
  {
   "cell_type": "code",
   "execution_count": 50,
   "id": "29e6a7e0",
   "metadata": {},
   "outputs": [],
   "source": [
    "def adv_impute(advanced_cleaned):\n",
    "    cum = cum_stats(advanced_cleaned)\n",
    "    return cum"
   ]
  },
  {
   "cell_type": "code",
   "execution_count": 51,
   "id": "076d94b2",
   "metadata": {},
   "outputs": [],
   "source": [
    "def merger(reg_imputed, advanced_imputed, four_imputed):\n",
    "    merged = pd.merge(reg_imputed,advanced_imputed, left_on = ['GAME_ID','TEAM_ID_A'],right_on = ['GAME_ID','TEAM_ID_A'])\n",
    "    merged = pd.merge(merged,four_imputed, left_on = ['GAME_ID','TEAM_ID_A'],right_on = ['GAME_ID','TEAM_ID_A'])\n",
    "    return get_62(merged)"
   ]
  },
  {
   "cell_type": "code",
   "execution_count": 52,
   "id": "ca6f5a88",
   "metadata": {},
   "outputs": [],
   "source": [
    "def dataload_clean(year,start_date,end_date):\n",
    "    reg = pull_reg_season(year,start_date,end_date)\n",
    "    misc = pull_stats_slow(boxscoremiscv2.BoxScoreMiscV2,1,reg)\n",
    "    minutes = get_minutes(misc)\n",
    "    advanced = pull_stats_slow(boxscoreadvancedv2.BoxScoreAdvancedV2,1,reg)\n",
    "    four = pull_stats_slow(boxscorefourfactorsv2.BoxScoreFourFactorsV2,1,reg)\n",
    "    merged = merger(reg_impute(reg_clean(reg), minutes),advanced_impute(advancedboxscore_clean(advanced)),\n",
    "                    four_impute(four_factors_clean(four)))\n",
    "    merged.to_csv(year + '.csv')\n",
    "    return merged"
   ]
  },
  {
   "cell_type": "code",
   "execution_count": 53,
   "id": "6afcbaac",
   "metadata": {},
   "outputs": [],
   "source": [
    "def dataloader(year,start_date,end_date):\n",
    "    reg = pull_reg_season(year,start_date,end_date)\n",
    "    reg.to_csv('reg' + year + '.csv')\n",
    "    misc = pull_stats(boxscoremiscv2.BoxScoreMiscV2,1,get_ids(reg))\n",
    "    misc.to_csv('misc' + year + '.csv')\n",
    "    adv = pull_stats(boxscoreadvancedv2.BoxScoreAdvancedV2,1,get_ids(reg))\n",
    "    adv.to_csv('adv' + year + '.csv')\n",
    "    four = pull_stats(boxscorefourfactorsv2.BoxScoreFourFactorsV2,1,get_ids(reg))\n",
    "    four.to_csv('four' + year + '.csv')\n",
    "    return[reg,misc,adv,four]\n",
    "    "
   ]
  },
  {
   "cell_type": "code",
   "execution_count": 54,
   "id": "f67da8c4",
   "metadata": {},
   "outputs": [],
   "source": [
    "def get_ids(reg):\n",
    "    unique = reg.drop_duplicates('GAME_ID')\n",
    "    return unique['GAME_ID']"
   ]
  },
  {
   "cell_type": "code",
   "execution_count": 55,
   "id": "58138d30",
   "metadata": {},
   "outputs": [],
   "source": [
    "def add_zeros(game_id):\n",
    "    new_id = '00' + (str(game_id))\n",
    "    return new_id"
   ]
  },
  {
   "cell_type": "code",
   "execution_count": null,
   "id": "d1a6adfe",
   "metadata": {},
   "outputs": [],
   "source": []
  },
  {
   "cell_type": "code",
   "execution_count": 10,
   "id": "9aa39d25",
   "metadata": {},
   "outputs": [],
   "source": [
    "def get_features(reg,misc,adv,four):\n",
    "    reg2 = reg_impute(reg_clean(reg),get_minutes(misc))\n",
    "    adv2 = adv_impute(adv_clean(adv))\n",
    "    four2 = four_impute(four_clean(four))\n",
    "    merged = merger(reg2,adv2,four2)\n",
    "    #merged = feature_clean(merged)\n",
    "    merged = remove_unnamed(merged)\n",
    "    return merged"
   ]
  },
  {
   "cell_type": "code",
   "execution_count": 11,
   "id": "8b0e7bd3",
   "metadata": {},
   "outputs": [],
   "source": [
    "def odds_convert(american_lines):\n",
    "    odds = []\n",
    "    for i in american_lines:\n",
    "        if(i < 0):\n",
    "            odds.append((i -100)/i)\n",
    "        else:\n",
    "            odds.append((i+100)/100)\n",
    "    return odds"
   ]
  },
  {
   "cell_type": "code",
   "execution_count": 12,
   "id": "5b517417",
   "metadata": {},
   "outputs": [],
   "source": [
    "def feature_clean(features):\n",
    "    for columnName in features:\n",
    "        if ((columnName[0:4] == 'TEAM') | (columnName[0:4] == 'GAME')):\n",
    "            features = features.drop(columns = [columnName])\n",
    "    return features"
   ]
  },
  {
   "cell_type": "code",
   "execution_count": 13,
   "id": "431f3253",
   "metadata": {},
   "outputs": [],
   "source": [
    "def get_targets_OU(features, targets):\n",
    "    df = pd.DataFrame()\n",
    "    for i in range(len(features)):\n",
    "        year = features[i]\n",
    "        vegas = targets[i]\n",
    "        vegas = vegas[['Pinnacle_Line_OU','Pinnacle_Odds_OU','Total','GameId']]\n",
    "        merged = pd.merge(year,vegas, left_on = 'GAME_ID',right_on = 'GameId')\n",
    "        merged = merged.drop_duplicates(subset = ['GAME_ID','TEAM_ID_A'])\n",
    "        merged = merged.dropna()\n",
    "        df = df.append(merged)\n",
    "    y = df[['Pinnacle_Line_OU','Total']]\n",
    "    #odds = y['Pinnacle_Odds_OU']\n",
    "    #new = odds_convert(odds)\n",
    "    #y['Pinnacle_Odds_OU'] = new\n",
    "    x = df.drop(columns = ['Pinnacle_Line_OU','Pinnacle_Odds_OU','Total','GameId'])\n",
    "    x = feature_clean(x)\n",
    "    return[x,y]\n",
    "        "
   ]
  },
  {
   "cell_type": "code",
   "execution_count": 14,
   "id": "8132f64e",
   "metadata": {},
   "outputs": [],
   "source": [
    "def get_targets_ML(features, targets):\n",
    "    df = pd.DataFrame()\n",
    "    for i in range(len(features)):\n",
    "        year = features[i]\n",
    "        vegas = targets[i]\n",
    "        vegas = combine_vegas_games(vegas)\n",
    "        vegas = vegas[['Pinnacle_ML_A','Pinnacle_ML_B','Result_A','GameId','TeamId_A']]\n",
    "        merged = pd.merge(year,vegas, left_on = ['GAME_ID','TEAM_ID_A'],right_on = ['GameId','TeamId_A'])\n",
    "        merged = merged.drop_duplicates(subset = ['GAME_ID','TEAM_ID_A'])\n",
    "        merged = merged.dropna()\n",
    "        df = df.append(merged)\n",
    "    y = df[['Result_A','Pinnacle_ML_A','Pinnacle_ML_B','GameId']]\n",
    "    y['Odds_A'] = odds_convert(y['Pinnacle_ML_A'])\n",
    "    y['Odds_B'] = odds_convert(y['Pinnacle_ML_B'])\n",
    "    y['y_true'] = y.apply(lambda row : get_y_true(row['Result_A'],\n",
    "                     row['Odds_A'], row['Odds_B']), axis = 1)\n",
    "    x = df.drop(columns = ['Pinnacle_ML_A','Pinnacle_ML_B','Result_A','GameId','TeamId_A'])\n",
    "    x = feature_clean(x)\n",
    "    y = y[['y_true']]\n",
    "    y2 = pd.DataFrame(y['y_true'].to_list(), columns = ['a_win', 'b_win', 'no_bet','odds_a','odds_b'])\n",
    "    return[x,y2]\n",
    "    "
   ]
  },
  {
   "cell_type": "code",
   "execution_count": null,
   "id": "dd4ba33b",
   "metadata": {},
   "outputs": [],
   "source": []
  },
  {
   "cell_type": "code",
   "execution_count": 15,
   "id": "bb920f5d",
   "metadata": {},
   "outputs": [],
   "source": [
    "def get_y_true(result_a, ml_a,ml_b):\n",
    "    if(result_a == 'W'):\n",
    "        return [1,0,0,ml_a,ml_b]\n",
    "    else:\n",
    "        return [0,1,0,ml_a,ml_b]\n",
    "    "
   ]
  },
  {
   "cell_type": "code",
   "execution_count": 16,
   "id": "d2ca7387",
   "metadata": {},
   "outputs": [],
   "source": [
    "def OU_accuracy(X_test, model, y_test,thresh):\n",
    "    y_test['predictions'] = model.predict(X_test)\n",
    "    y_test['diff'] = abs(y_test['Pinnacle_Line_OU'] - y_test['predictions'])\n",
    "    y_test = y_test[y_test['diff'] > thresh]\n",
    "    counter = 0\n",
    "    for i in range(y_test.shape[0]):\n",
    "        ou = y_test.iloc[i,0]\n",
    "        total = y_test.iloc[i,1]\n",
    "        predictions = y_test.iloc[i,2]\n",
    "        if(ou > total):\n",
    "            if(predictions < ou):\n",
    "                counter = counter + 1\n",
    "        if(ou < total):\n",
    "            if(predictions > ou):\n",
    "                counter = counter + 1\n",
    "    return(counter/y_test.shape[0])\n",
    "            \n",
    "            \n",
    "            \n",
    "    \n",
    "    \n",
    "    "
   ]
  },
  {
   "cell_type": "code",
   "execution_count": 293,
   "id": "ecdad6b7",
   "metadata": {},
   "outputs": [],
   "source": [
    "def decorrelation_loss(y_true, y_pred):\n",
    "    p = y_true[:,0:1]\n",
    "    result = y_true[:,1:2]\n",
    "    return K.sqrt(K.mean(K.square(result - y_pred) - (0.6 * K.square(p - y_pred))))"
   ]
  },
  {
   "cell_type": "code",
   "execution_count": 18,
   "id": "b65a1672",
   "metadata": {},
   "outputs": [],
   "source": [
    "def profit_loss(y_true,y_pred):\n",
    "    home_win = y_true[:,0:1]\n",
    "    away_win = y_true[:,1:2]\n",
    "    no_bet = y_true[:,2:3]\n",
    "    odds_a = y_true[:,3:4]\n",
    "    odds_b = y_true[:,4:5]\n",
    "    gain_loss_vector = K.concatenate([(home_win * (odds_a - 1)) + ((1-home_win)* -1),\n",
    "                                     (away_win * (odds_b - 1)) + ((1-away_win) * -1),\n",
    "                                     K.zeros_like(odds_a)],axis=1)\n",
    "    return( -1 * (K.mean(K.sum(gain_loss_vector * y_pred, axis=1))))\n",
    "    "
   ]
  },
  {
   "cell_type": "code",
   "execution_count": 19,
   "id": "6b6c03f2",
   "metadata": {},
   "outputs": [],
   "source": [
    "def rmse(y_true, y_pred):\n",
    "    return K.sqrt(K.mean(K.square(y_pred - y_true)))\n",
    "    "
   ]
  },
  {
   "cell_type": "code",
   "execution_count": 20,
   "id": "efa16556",
   "metadata": {},
   "outputs": [],
   "source": [
    "def OU_features(features,corr,thresh):\n",
    "    size = corr.shape[0]-1\n",
    "    features2 = features.copy(deep=False)\n",
    "    for columnName in corr:\n",
    "        if (corr[columnName][size] < thresh):\n",
    "            features2 = features2.drop(columns = [columnName])\n",
    "    return features2\n",
    "            "
   ]
  },
  {
   "cell_type": "code",
   "execution_count": 133,
   "id": "d3c85d74",
   "metadata": {},
   "outputs": [],
   "source": [
    "def get_bets(pred_odds):\n",
    "    pred_odds['prob_a'] = 1 / (pred_odds['odds_a'])\n",
    "    pred_odds['bets'] = pred_odds.apply(lambda row : get_bet(row['predictions'],row['prob_a']), axis = 1)\n",
    "    return pred_odds\n",
    "    "
   ]
  },
  {
   "cell_type": "code",
   "execution_count": 134,
   "id": "b89ae318",
   "metadata": {},
   "outputs": [],
   "source": [
    "def get_bet(pred,odds):\n",
    "    if((pred-odds) > 0):\n",
    "        return(pred-odds)\n",
    "    else:\n",
    "        return 0"
   ]
  },
  {
   "cell_type": "code",
   "execution_count": 23,
   "id": "200d4b50",
   "metadata": {},
   "outputs": [],
   "source": [
    "def get_profits(preds):\n",
    "    preds['profit'] = preds.apply(lambda row: get_profit(row['odds_a'],row['bets'],row['a_win']),axis=1)\n",
    "    return(preds['profit'].sum())"
   ]
  },
  {
   "cell_type": "code",
   "execution_count": 89,
   "id": "fcfcc55f",
   "metadata": {},
   "outputs": [],
   "source": [
    "def filter_features(features, features_list):\n",
    "    features2 = features.copy(deep=False)\n",
    "    for columnName in features2:\n",
    "        if(columnName in features_list):\n",
    "            continue\n",
    "        else:\n",
    "            features2 = features2.drop(columns = [columnName])\n",
    "    return features2\n",
    "    "
   ]
  },
  {
   "cell_type": "code",
   "execution_count": 24,
   "id": "460e7dc8",
   "metadata": {},
   "outputs": [],
   "source": [
    "def get_profit(odds,bet,result):\n",
    "    if(result == 1):\n",
    "        return((bet*odds) - bet)\n",
    "    if(result == 0):\n",
    "        return(-1 * bet)"
   ]
  },
  {
   "cell_type": "code",
   "execution_count": 452,
   "id": "333be51e",
   "metadata": {},
   "outputs": [],
   "source": [
    "def profit(model, X_test, y_test):\n",
    "    pred = model.predict(X_test)\n",
    "    odds = y_test['odds_a']\n",
    "    result =  y_test['a_win']\n",
    "    test = pd.DataFrame()\n",
    "    test['odds_a'] = odds\n",
    "    test['a_win'] = result\n",
    "    test['predictions'] = pred\n",
    "    get_bets(test)\n",
    "    profit = get_profits(test)\n",
    "    print('total profit:  ' + str(profit))\n",
    "    print('total bet:  ' + str(test['bets'].sum()))\n",
    "    print('percent_return:  ' + str((100 * (profit/test['bets'].sum()))))"
   ]
  },
  {
   "cell_type": "code",
   "execution_count": 25,
   "id": "34e8be3a",
   "metadata": {},
   "outputs": [],
   "source": [
    "def plot_metric(history, metric):\n",
    "    train_metrics = history.history[metric]\n",
    "    val_metrics = history.history['val_'+metric]\n",
    "    epochs = range(1, len(train_metrics) + 1)\n",
    "    plt.plot(epochs, train_metrics)\n",
    "    plt.plot(epochs, val_metrics)\n",
    "    plt.title('Training and validation '+ metric)\n",
    "    plt.xlabel(\"Epochs\")\n",
    "    plt.ylabel(metric)\n",
    "    plt.legend([\"train_\"+metric, 'val_'+metric])\n",
    "    plt.show()"
   ]
  },
  {
   "cell_type": "code",
   "execution_count": 372,
   "id": "efe41b72",
   "metadata": {},
   "outputs": [],
   "source": [
    "def get_model(input_dim, output_dim, base=1000, multiplier=0.25, p=0.2,lr = 0.0001):\n",
    "    inputs = Input(shape=(input_dim,))\n",
    "    l = BatchNormalization()(inputs)\n",
    "    l = Dropout(p)(l)\n",
    "    n = base\n",
    "    l = Dense(n, activation='relu')(l)\n",
    "    l = BatchNormalization()(l)\n",
    "    l = Dropout(p)(l)\n",
    "    n = int(n * multiplier)\n",
    "    l = Dense(n, activation='relu')(l)\n",
    "    l = BatchNormalization()(l)\n",
    "    l = Dropout(p)(l)\n",
    "    n = int(n * multiplier)\n",
    "    l = Dense(n, activation='relu')(l)\n",
    "    outputs = Dense(output_dim, activation='sigmoid')(l)\n",
    "    model = Model(inputs=inputs, outputs=outputs)\n",
    "    model.compile(optimizer=tf.keras.optimizers.Adam(learning_rate = lr), loss=decorrelation_loss)\n",
    "    return model"
   ]
  },
  {
   "cell_type": "code",
   "execution_count": 440,
   "id": "0ac4148d",
   "metadata": {},
   "outputs": [],
   "source": [
    "from keras.callbacks import EarlyStopping\n",
    "from keras.callbacks import ModelCheckpoint\n",
    "import kerastuner as kt\n",
    "def train(model,X_train,y_train,val_split,ep,bs,nodes):\n",
    "    history = model.fit(X_train,y_train,validation_split = val_split,epochs = ep, batch_size = bs)"
   ]
  },
  {
   "cell_type": "code",
   "execution_count": 450,
   "id": "bc31c1c3",
   "metadata": {},
   "outputs": [
    {
     "name": "stdout",
     "output_type": "stream",
     "text": [
      "Epoch 1/2\n",
      "WARNING:tensorflow:AutoGraph could not transform <function Model.make_train_function.<locals>.train_function at 0x7f826f95be60> and will run it as-is.\n",
      "Please report this to the TensorFlow team. When filing the bug, set the verbosity to 10 (on Linux, `export AUTOGRAPH_VERBOSITY=10`) and attach the full output.\n",
      "Cause: 'arguments' object has no attribute 'posonlyargs'\n",
      "To silence this warning, decorate the function with @tf.autograph.experimental.do_not_convert\n",
      "WARNING: AutoGraph could not transform <function Model.make_train_function.<locals>.train_function at 0x7f826f95be60> and will run it as-is.\n",
      "Please report this to the TensorFlow team. When filing the bug, set the verbosity to 10 (on Linux, `export AUTOGRAPH_VERBOSITY=10`) and attach the full output.\n",
      "Cause: 'arguments' object has no attribute 'posonlyargs'\n",
      "To silence this warning, decorate the function with @tf.autograph.experimental.do_not_convert\n",
      "72/72 [==============================] - ETA: 0s - loss: 0.4863WARNING:tensorflow:AutoGraph could not transform <function Model.make_test_function.<locals>.test_function at 0x7f827067fc20> and will run it as-is.\n",
      "Please report this to the TensorFlow team. When filing the bug, set the verbosity to 10 (on Linux, `export AUTOGRAPH_VERBOSITY=10`) and attach the full output.\n",
      "Cause: 'arguments' object has no attribute 'posonlyargs'\n",
      "To silence this warning, decorate the function with @tf.autograph.experimental.do_not_convert\n",
      "WARNING: AutoGraph could not transform <function Model.make_test_function.<locals>.test_function at 0x7f827067fc20> and will run it as-is.\n",
      "Please report this to the TensorFlow team. When filing the bug, set the verbosity to 10 (on Linux, `export AUTOGRAPH_VERBOSITY=10`) and attach the full output.\n",
      "Cause: 'arguments' object has no attribute 'posonlyargs'\n",
      "To silence this warning, decorate the function with @tf.autograph.experimental.do_not_convert\n",
      "72/72 [==============================] - 24s 322ms/step - loss: 0.4863 - val_loss: 0.4679\n",
      "Epoch 2/2\n",
      "72/72 [==============================] - 23s 321ms/step - loss: 0.4704 - val_loss: 0.4625\n"
     ]
    }
   ],
   "source": [
    "\n",
    "train(get_model(94,1,10000,0.5,0.4,0.00001),X_train,y_train,0.2,2,50)\n",
    "\n",
    "    "
   ]
  },
  {
   "cell_type": "code",
   "execution_count": 453,
   "id": "dd7cbba9",
   "metadata": {},
   "outputs": [
    {
     "name": "stdout",
     "output_type": "stream",
     "text": [
      "32/32 [==============================] - 1s 25ms/step\n",
      "total profit:  0.6439284256201341\n",
      "total bet:  21.50081939904875\n",
      "percent_return:  2.9949017926666697\n"
     ]
    }
   ],
   "source": [
    "profit(model,X_test,y_test)"
   ]
  },
  {
   "cell_type": "code",
   "execution_count": null,
   "id": "1e1e5b47",
   "metadata": {},
   "outputs": [],
   "source": []
  },
  {
   "cell_type": "code",
   "execution_count": null,
   "id": "e818fd15",
   "metadata": {},
   "outputs": [],
   "source": []
  },
  {
   "cell_type": "code",
   "execution_count": null,
   "id": "5c64ed51",
   "metadata": {},
   "outputs": [],
   "source": []
  },
  {
   "cell_type": "code",
   "execution_count": null,
   "id": "a8de13c2",
   "metadata": {},
   "outputs": [],
   "source": []
  },
  {
   "cell_type": "code",
   "execution_count": null,
   "id": "6b354130",
   "metadata": {},
   "outputs": [],
   "source": []
  },
  {
   "cell_type": "code",
   "execution_count": null,
   "id": "931934dc",
   "metadata": {},
   "outputs": [],
   "source": []
  },
  {
   "cell_type": "code",
   "execution_count": null,
   "id": "3c561691",
   "metadata": {},
   "outputs": [],
   "source": []
  },
  {
   "cell_type": "code",
   "execution_count": null,
   "id": "d9685cb0",
   "metadata": {},
   "outputs": [],
   "source": []
  },
  {
   "cell_type": "code",
   "execution_count": 56,
   "id": "740f3823",
   "metadata": {},
   "outputs": [],
   "source": []
  },
  {
   "cell_type": "code",
   "execution_count": 57,
   "id": "6deb40cb",
   "metadata": {},
   "outputs": [],
   "source": []
  },
  {
   "cell_type": "code",
   "execution_count": 58,
   "id": "a9f558a6",
   "metadata": {},
   "outputs": [],
   "source": []
  },
  {
   "cell_type": "code",
   "execution_count": 59,
   "id": "dc701eda",
   "metadata": {},
   "outputs": [],
   "source": [
    "\n"
   ]
  },
  {
   "cell_type": "code",
   "execution_count": 60,
   "id": "d2817455",
   "metadata": {},
   "outputs": [],
   "source": []
  },
  {
   "cell_type": "code",
   "execution_count": 61,
   "id": "d340e906",
   "metadata": {},
   "outputs": [
    {
     "name": "stderr",
     "output_type": "stream",
     "text": [
      "/opt/anaconda3/envs/Python_3713/lib/python3.7/site-packages/ipykernel_launcher.py:13: SettingWithCopyWarning: \n",
      "A value is trying to be set on a copy of a slice from a DataFrame.\n",
      "Try using .loc[row_indexer,col_indexer] = value instead\n",
      "\n",
      "See the caveats in the documentation: https://pandas.pydata.org/pandas-docs/stable/user_guide/indexing.html#returning-a-view-versus-a-copy\n",
      "  del sys.path[0]\n",
      "/opt/anaconda3/envs/Python_3713/lib/python3.7/site-packages/ipykernel_launcher.py:14: SettingWithCopyWarning: \n",
      "A value is trying to be set on a copy of a slice from a DataFrame.\n",
      "Try using .loc[row_indexer,col_indexer] = value instead\n",
      "\n",
      "See the caveats in the documentation: https://pandas.pydata.org/pandas-docs/stable/user_guide/indexing.html#returning-a-view-versus-a-copy\n",
      "  \n",
      "/opt/anaconda3/envs/Python_3713/lib/python3.7/site-packages/ipykernel_launcher.py:16: SettingWithCopyWarning: \n",
      "A value is trying to be set on a copy of a slice from a DataFrame.\n",
      "Try using .loc[row_indexer,col_indexer] = value instead\n",
      "\n",
      "See the caveats in the documentation: https://pandas.pydata.org/pandas-docs/stable/user_guide/indexing.html#returning-a-view-versus-a-copy\n",
      "  app.launch_new_instance()\n"
     ]
    }
   ],
   "source": []
  },
  {
   "cell_type": "code",
   "execution_count": 205,
   "id": "2aa4d4a6",
   "metadata": {},
   "outputs": [],
   "source": []
  },
  {
   "cell_type": "code",
   "execution_count": null,
   "id": "afa29960",
   "metadata": {},
   "outputs": [],
   "source": [
    "\n"
   ]
  },
  {
   "cell_type": "code",
   "execution_count": null,
   "id": "31d26646",
   "metadata": {},
   "outputs": [],
   "source": []
  },
  {
   "cell_type": "code",
   "execution_count": null,
   "id": "132a89f2",
   "metadata": {},
   "outputs": [],
   "source": []
  },
  {
   "cell_type": "code",
   "execution_count": null,
   "id": "3d549341",
   "metadata": {},
   "outputs": [],
   "source": []
  },
  {
   "cell_type": "code",
   "execution_count": null,
   "id": "427f345c",
   "metadata": {},
   "outputs": [],
   "source": []
  },
  {
   "cell_type": "code",
   "execution_count": null,
   "id": "33b6f04f",
   "metadata": {},
   "outputs": [],
   "source": []
  },
  {
   "cell_type": "code",
   "execution_count": null,
   "id": "a96bb9b0",
   "metadata": {},
   "outputs": [],
   "source": []
  },
  {
   "cell_type": "code",
   "execution_count": null,
   "id": "939d7229",
   "metadata": {},
   "outputs": [],
   "source": []
  },
  {
   "cell_type": "code",
   "execution_count": null,
   "id": "78654814",
   "metadata": {},
   "outputs": [],
   "source": []
  },
  {
   "cell_type": "code",
   "execution_count": null,
   "id": "437205ba",
   "metadata": {},
   "outputs": [],
   "source": [
    "\n",
    "        \n",
    "        \n",
    "    "
   ]
  },
  {
   "cell_type": "code",
   "execution_count": null,
   "id": "6b5f43b8",
   "metadata": {},
   "outputs": [],
   "source": []
  },
  {
   "cell_type": "code",
   "execution_count": null,
   "id": "dba9b73a",
   "metadata": {},
   "outputs": [],
   "source": []
  },
  {
   "cell_type": "code",
   "execution_count": null,
   "id": "9a331863",
   "metadata": {},
   "outputs": [],
   "source": [
    "\n"
   ]
  },
  {
   "cell_type": "code",
   "execution_count": null,
   "id": "25644649",
   "metadata": {},
   "outputs": [],
   "source": []
  },
  {
   "cell_type": "code",
   "execution_count": null,
   "id": "3064dbde",
   "metadata": {},
   "outputs": [],
   "source": []
  },
  {
   "cell_type": "code",
   "execution_count": null,
   "id": "9eb92910",
   "metadata": {},
   "outputs": [],
   "source": []
  },
  {
   "cell_type": "code",
   "execution_count": null,
   "id": "5f990e00",
   "metadata": {},
   "outputs": [],
   "source": []
  },
  {
   "cell_type": "code",
   "execution_count": null,
   "id": "eea1473e",
   "metadata": {},
   "outputs": [],
   "source": []
  },
  {
   "cell_type": "code",
   "execution_count": null,
   "id": "1c7fe8cd",
   "metadata": {},
   "outputs": [],
   "source": [
    "\n",
    "    \n"
   ]
  },
  {
   "cell_type": "code",
   "execution_count": null,
   "id": "44cb801c",
   "metadata": {},
   "outputs": [],
   "source": []
  },
  {
   "cell_type": "code",
   "execution_count": null,
   "id": "4c0f8e60",
   "metadata": {},
   "outputs": [],
   "source": []
  },
  {
   "cell_type": "code",
   "execution_count": null,
   "id": "2d7b2782",
   "metadata": {},
   "outputs": [],
   "source": []
  },
  {
   "cell_type": "code",
   "execution_count": null,
   "id": "b06d821f",
   "metadata": {},
   "outputs": [],
   "source": []
  },
  {
   "cell_type": "code",
   "execution_count": null,
   "id": "ca977bfb",
   "metadata": {},
   "outputs": [],
   "source": []
  },
  {
   "cell_type": "code",
   "execution_count": null,
   "id": "523edba7",
   "metadata": {},
   "outputs": [],
   "source": []
  },
  {
   "cell_type": "code",
   "execution_count": null,
   "id": "ee2243fe",
   "metadata": {},
   "outputs": [],
   "source": []
  },
  {
   "cell_type": "code",
   "execution_count": null,
   "id": "9229bc85",
   "metadata": {},
   "outputs": [],
   "source": []
  },
  {
   "cell_type": "code",
   "execution_count": null,
   "id": "25b40abf",
   "metadata": {},
   "outputs": [],
   "source": []
  },
  {
   "cell_type": "code",
   "execution_count": null,
   "id": "b0b5bb6e",
   "metadata": {},
   "outputs": [],
   "source": []
  },
  {
   "cell_type": "code",
   "execution_count": null,
   "id": "d96dd285",
   "metadata": {},
   "outputs": [],
   "source": []
  },
  {
   "cell_type": "code",
   "execution_count": null,
   "id": "d5ace76c",
   "metadata": {},
   "outputs": [],
   "source": []
  },
  {
   "cell_type": "code",
   "execution_count": null,
   "id": "60ecd041",
   "metadata": {},
   "outputs": [],
   "source": []
  },
  {
   "cell_type": "code",
   "execution_count": null,
   "id": "753abc92",
   "metadata": {},
   "outputs": [],
   "source": []
  },
  {
   "cell_type": "code",
   "execution_count": null,
   "id": "f921c0dc",
   "metadata": {},
   "outputs": [],
   "source": []
  },
  {
   "cell_type": "code",
   "execution_count": null,
   "id": "3fe0d71b",
   "metadata": {},
   "outputs": [],
   "source": []
  },
  {
   "cell_type": "code",
   "execution_count": null,
   "id": "d7555649",
   "metadata": {},
   "outputs": [],
   "source": []
  },
  {
   "cell_type": "code",
   "execution_count": null,
   "id": "323de86a",
   "metadata": {},
   "outputs": [],
   "source": []
  },
  {
   "cell_type": "code",
   "execution_count": null,
   "id": "1d930f2e",
   "metadata": {},
   "outputs": [],
   "source": []
  },
  {
   "cell_type": "code",
   "execution_count": null,
   "id": "de7e698f",
   "metadata": {},
   "outputs": [],
   "source": []
  },
  {
   "cell_type": "code",
   "execution_count": null,
   "id": "f50c0782",
   "metadata": {},
   "outputs": [],
   "source": []
  },
  {
   "cell_type": "code",
   "execution_count": null,
   "id": "55d7b425",
   "metadata": {},
   "outputs": [],
   "source": []
  },
  {
   "cell_type": "code",
   "execution_count": null,
   "id": "eb57ee71",
   "metadata": {},
   "outputs": [],
   "source": []
  },
  {
   "cell_type": "code",
   "execution_count": null,
   "id": "9e5820f1",
   "metadata": {},
   "outputs": [],
   "source": [
    "\n"
   ]
  },
  {
   "cell_type": "raw",
   "id": "4a4d0e45",
   "metadata": {},
   "source": []
  },
  {
   "cell_type": "code",
   "execution_count": null,
   "id": "52a45173",
   "metadata": {},
   "outputs": [],
   "source": [
    "\n"
   ]
  },
  {
   "cell_type": "code",
   "execution_count": null,
   "id": "441f0c7c",
   "metadata": {},
   "outputs": [],
   "source": []
  },
  {
   "cell_type": "code",
   "execution_count": null,
   "id": "1517e3f1",
   "metadata": {},
   "outputs": [],
   "source": []
  },
  {
   "cell_type": "code",
   "execution_count": null,
   "id": "f93f423e",
   "metadata": {},
   "outputs": [],
   "source": []
  },
  {
   "cell_type": "code",
   "execution_count": null,
   "id": "fb14d488",
   "metadata": {},
   "outputs": [],
   "source": []
  },
  {
   "cell_type": "code",
   "execution_count": null,
   "id": "c02437a5",
   "metadata": {},
   "outputs": [],
   "source": []
  },
  {
   "cell_type": "code",
   "execution_count": null,
   "id": "937cec67",
   "metadata": {},
   "outputs": [],
   "source": [
    "\n"
   ]
  },
  {
   "cell_type": "code",
   "execution_count": null,
   "id": "9b4261fd",
   "metadata": {},
   "outputs": [],
   "source": []
  },
  {
   "cell_type": "code",
   "execution_count": null,
   "id": "9ffa0e3f",
   "metadata": {},
   "outputs": [],
   "source": []
  },
  {
   "cell_type": "code",
   "execution_count": null,
   "id": "5bbc8f41",
   "metadata": {},
   "outputs": [],
   "source": []
  },
  {
   "cell_type": "code",
   "execution_count": null,
   "id": "ed445a53",
   "metadata": {},
   "outputs": [],
   "source": []
  },
  {
   "cell_type": "code",
   "execution_count": null,
   "id": "35739a06",
   "metadata": {},
   "outputs": [],
   "source": []
  },
  {
   "cell_type": "code",
   "execution_count": null,
   "id": "ddc2f566",
   "metadata": {},
   "outputs": [],
   "source": []
  },
  {
   "cell_type": "code",
   "execution_count": null,
   "id": "7b6e8055",
   "metadata": {},
   "outputs": [],
   "source": []
  },
  {
   "cell_type": "code",
   "execution_count": null,
   "id": "ff83687e",
   "metadata": {},
   "outputs": [],
   "source": []
  },
  {
   "cell_type": "code",
   "execution_count": null,
   "id": "440f1b57",
   "metadata": {},
   "outputs": [],
   "source": [
    "\n"
   ]
  },
  {
   "cell_type": "code",
   "execution_count": null,
   "id": "9ca76091",
   "metadata": {},
   "outputs": [],
   "source": []
  },
  {
   "cell_type": "code",
   "execution_count": null,
   "id": "35dae7e0",
   "metadata": {},
   "outputs": [],
   "source": []
  },
  {
   "cell_type": "code",
   "execution_count": null,
   "id": "e87aeb43",
   "metadata": {},
   "outputs": [],
   "source": []
  },
  {
   "cell_type": "code",
   "execution_count": null,
   "id": "a462a521",
   "metadata": {},
   "outputs": [],
   "source": []
  },
  {
   "cell_type": "code",
   "execution_count": null,
   "id": "601d409b",
   "metadata": {},
   "outputs": [],
   "source": []
  },
  {
   "cell_type": "code",
   "execution_count": null,
   "id": "36290996",
   "metadata": {},
   "outputs": [],
   "source": []
  },
  {
   "cell_type": "code",
   "execution_count": null,
   "id": "7b916941",
   "metadata": {},
   "outputs": [],
   "source": []
  },
  {
   "cell_type": "code",
   "execution_count": null,
   "id": "cb416724",
   "metadata": {},
   "outputs": [],
   "source": []
  },
  {
   "cell_type": "code",
   "execution_count": null,
   "id": "1c1d629b",
   "metadata": {},
   "outputs": [],
   "source": []
  },
  {
   "cell_type": "code",
   "execution_count": null,
   "id": "116fee07",
   "metadata": {},
   "outputs": [],
   "source": []
  },
  {
   "cell_type": "code",
   "execution_count": null,
   "id": "0b1adc8c",
   "metadata": {},
   "outputs": [],
   "source": []
  },
  {
   "cell_type": "code",
   "execution_count": null,
   "id": "439e3877",
   "metadata": {},
   "outputs": [],
   "source": []
  },
  {
   "cell_type": "code",
   "execution_count": null,
   "id": "a46d45f9",
   "metadata": {},
   "outputs": [],
   "source": []
  },
  {
   "cell_type": "code",
   "execution_count": null,
   "id": "8b001b3b",
   "metadata": {},
   "outputs": [],
   "source": []
  },
  {
   "cell_type": "code",
   "execution_count": null,
   "id": "9f8a732d",
   "metadata": {},
   "outputs": [],
   "source": []
  },
  {
   "cell_type": "code",
   "execution_count": null,
   "id": "94da1e52",
   "metadata": {},
   "outputs": [],
   "source": []
  },
  {
   "cell_type": "code",
   "execution_count": null,
   "id": "f5993299",
   "metadata": {},
   "outputs": [],
   "source": []
  },
  {
   "cell_type": "code",
   "execution_count": null,
   "id": "de0989eb",
   "metadata": {},
   "outputs": [],
   "source": []
  },
  {
   "cell_type": "code",
   "execution_count": null,
   "id": "82b086b3",
   "metadata": {},
   "outputs": [],
   "source": []
  },
  {
   "cell_type": "code",
   "execution_count": null,
   "id": "06b20e35",
   "metadata": {},
   "outputs": [],
   "source": []
  }
 ],
 "metadata": {
  "kernelspec": {
   "display_name": "Python 3 (ipykernel)",
   "language": "python",
   "name": "python3"
  },
  "language_info": {
   "codemirror_mode": {
    "name": "ipython",
    "version": 3
   },
   "file_extension": ".py",
   "mimetype": "text/x-python",
   "name": "python",
   "nbconvert_exporter": "python",
   "pygments_lexer": "ipython3",
   "version": "3.7.13"
  }
 },
 "nbformat": 4,
 "nbformat_minor": 5
}
